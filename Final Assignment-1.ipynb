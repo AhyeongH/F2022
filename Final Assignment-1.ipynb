{
  "nbformat": 4,
  "nbformat_minor": 0,
  "metadata": {
    "colab": {
      "provenance": [],
      "include_colab_link": true
    },
    "kernelspec": {
      "name": "python3",
      "display_name": "Python 3"
    },
    "language_info": {
      "name": "python"
    }
  },
  "cells": [
    {
      "cell_type": "markdown",
      "metadata": {
        "id": "view-in-github",
        "colab_type": "text"
      },
      "source": [
        "<a href=\"https://colab.research.google.com/github/AhyeongH/F2022/blob/main/Final%20Assignment-1.ipynb\" target=\"_parent\"><img src=\"https://colab.research.google.com/assets/colab-badge.svg\" alt=\"Open In Colab\"/></a>"
      ]
    },
    {
      "cell_type": "markdown",
      "source": [
        "# 🐳 Play game with Ahyeong Teacher!"
      ],
      "metadata": {
        "id": "KA8AOgnlC5WL"
      }
    },
    {
      "cell_type": "code",
      "execution_count": 2,
      "metadata": {
        "colab": {
          "base_uri": "https://localhost:8080/"
        },
        "id": "XiDgmuaJC1Us",
        "outputId": "7b8882c1-d3f2-456c-88ea-4c08e8cadf18"
      },
      "outputs": [
        {
          "output_type": "stream",
          "name": "stdout",
          "text": [
            "Welcome to my computer game!\n",
            "There is a story in this page.\n",
            "I hope you enjoy them!\n",
            "**************************************************\n"
          ]
        }
      ],
      "source": [
        "#@markdown Greetings\n",
        "print(\"Welcome to my computer game!\")\n",
        "print(\"There is a story in this page.\")\n",
        "print(\"I hope you enjoy them!\")\n",
        "print(\"*\"*50)\n"
      ]
    },
    {
      "cell_type": "markdown",
      "source": [
        "#Lesson 8. Which Is The Best Way?"
      ],
      "metadata": {
        "id": "xbsRpEJjSpgY"
      }
    },
    {
      "cell_type": "code",
      "source": [
        "#@markdown The Five Wise Men\n",
        "\n",
        "name = input(\"Type your name: \")\n",
        "print(\"Welcome\", name, \"to this adventure!\")\n",
        "\n",
        "print(\"*\"*30)\n",
        "answer = input(\"You are on a trip. \\nOn the way, however, you become lost in a thick forest. \\nBefore walking any further, you have to decide to stop and find the best way out. \\nYou can go left, right, back, or straight, or you can even wait. \\n** Which way do you want to go? \\nType 'left' , 'right' , 'back' , 'straight' or 'wait'.\").lower()\n",
        "\n",
        "print(\"*\"*30)\n",
        "if answer == \"left\":\n",
        "    answer = input(\"🐟 You come deeper into the forest, \\n you can stay for a while or go straight. \\n Do you want to stay or go? \\n ** Type 'stay' or 'go'.\").lower()\n",
        "    print(\"*\"*30)\n",
        "    if answer == \"go\":\n",
        "      print(\"🐊 You made your way out of the forest.\")\n",
        "      print(\"*\"*30)\n",
        "    elif answer == \"stay\":\n",
        "      print(\"💧 You were attacked by wild animals and died of hunger.\")\n",
        "      print(\"*\"*30)\n",
        "    else:\n",
        "      print(\"😥 Not a valid option. You lose.\")\n",
        "      print(\"*\"*30)\n",
        "elif answer == \"right\":\n",
        "    answer = input(\"You meet a group of thieves, \\n you can give them what you have or run away. \\n Do you want to give them everything or run away? \\n ** Type 'give' or 'run'. \").lower()\n",
        "    print(\"*\"*30)\n",
        "    if answer == \"back\":\n",
        "      print(\"😥 You go back and lost your luck.\")\n",
        "      print(\"*\"*30)\n",
        "    elif answer == \"cross\":\n",
        "      answer = input(\"You cross the bridge and meet a stranger. ** Do you talk to them? (y/n)\").lower()\n",
        "      print(\"*\"*30)\n",
        "      if answer == \"y\":\n",
        "          print(\"👀 You talk to the stranger and he gives you gold. You win!\")\n",
        "      elif answer == \"n\":\n",
        "          print(\"😥 Well, you lost your luck.\")\n",
        "\n",
        "      else:\n",
        "        print(\"😥 Not a valid option. You lose.\")\n",
        "\n",
        "else:\n",
        "  print(\"Not a valid option. You lose.\")\n",
        "\n",
        "print(\"Thank you\", name, \"Bye!\")\n"
      ],
      "metadata": {
        "colab": {
          "base_uri": "https://localhost:8080/"
        },
        "id": "jLZnz4ooSrw2",
        "outputId": "bbf0f58f-740f-4d2a-c931-219afe7e1043"
      },
      "execution_count": 11,
      "outputs": [
        {
          "output_type": "stream",
          "name": "stdout",
          "text": [
            "Type your name: ahyeong\n",
            "Welcome ahyeong to this adventure!\n",
            "******************************\n",
            "You are on a trip. \n",
            "On the way, however, you become lost in a thick forest. \n",
            "Before walking any further, you have to decide to stop and find the best way out. \n",
            "You can go left, right, back, or straight, or you can even wait. \n",
            "** Which way do you want to go? \n",
            "Type 'left' , 'right' , 'back' , 'straight' or 'wait'.left\n",
            "******************************\n",
            "🐟 You come deeper into the forest, \n",
            " you can stay for a while or go straight. \n",
            " Do you want to stay or go? \n",
            " ** Type 'stay' or 'go'.go\n",
            "******************************\n",
            "🐊 You made your way out of the forest.\n",
            "******************************\n",
            "Thank you ahyeong Bye!\n"
          ]
        }
      ]
    }
  ]
}