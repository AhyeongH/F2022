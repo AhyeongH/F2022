{
  "nbformat": 4,
  "nbformat_minor": 0,
  "metadata": {
    "colab": {
      "provenance": [],
      "include_colab_link": true
    },
    "kernelspec": {
      "name": "python3",
      "display_name": "Python 3"
    },
    "language_info": {
      "name": "python"
    }
  },
  "cells": [
    {
      "cell_type": "markdown",
      "metadata": {
        "id": "view-in-github",
        "colab_type": "text"
      },
      "source": [
        "<a href=\"https://colab.research.google.com/github/AhyeongH/F2022/blob/main/Final%20Assignment-3.ipynb\" target=\"_parent\"><img src=\"https://colab.research.google.com/assets/colab-badge.svg\" alt=\"Open In Colab\"/></a>"
      ]
    },
    {
      "cell_type": "markdown",
      "source": [
        "# 🐳 Play game with Ahyeong Teacher!"
      ],
      "metadata": {
        "id": "KA8AOgnlC5WL"
      }
    },
    {
      "cell_type": "code",
      "execution_count": 1,
      "metadata": {
        "colab": {
          "base_uri": "https://localhost:8080/"
        },
        "id": "XiDgmuaJC1Us",
        "outputId": "0271635f-8fbc-4aed-cd2a-974155d3349e"
      },
      "outputs": [
        {
          "output_type": "stream",
          "name": "stdout",
          "text": [
            "Welcome to my computer game!\n",
            "There is a story in this page.\n",
            "I hope you enjoy them!\n",
            "**************************************************\n"
          ]
        }
      ],
      "source": [
        "#@markdown Greetings\n",
        "print(\"Welcome to my computer game!\")\n",
        "print(\"There is a story in this page.\")\n",
        "print(\"I hope you enjoy them!\")\n",
        "print(\"*\"*50)\n"
      ]
    },
    {
      "cell_type": "markdown",
      "source": [
        "#Lesson 8. Which Is The Best Way?"
      ],
      "metadata": {
        "id": "xbsRpEJjSpgY"
      }
    },
    {
      "cell_type": "code",
      "source": [
        "#@markdown The Five Wise Men\n",
        "\n",
        "name = input(\"Type your name: \")\n",
        "print(\"Welcome\", name, \"to this adventure!\")\n",
        "\n",
        "print(\"*\"*30)\n",
        "answer = input(\"You are on a trip. \\nOn the way, however, you become lost in a thick forest. \\nBefore walking any further, you have to decide to stop and find the best way out. \\nYou can go left, right, back, or straight, or you can even wait. \\n** Which way do you want to go? \\nType 'left' , 'right' , 'back' , 'straight' or 'wait'.\").lower()\n",
        "\n",
        "print(\"*\"*30)\n",
        "if answer == \"left\":\n",
        "    answer = input(\"You come deeper into the forest, \\nYou can stay for a while or go straight. \\nDo you want to stay or go? \\n** Type 'stay' or 'go'.\").lower()\n",
        "    print(\"*\"*30)\n",
        "    if answer == \"go\":\n",
        "      print(\"🐊 You made your way out of the forest.\")\n",
        "      print(\"*\"*30)\n",
        "    elif answer == \"stay\":\n",
        "      print(\"💧 You were attacked by wild animals and died of hunger.\")\n",
        "      print(\"*\"*30)\n",
        "    else:\n",
        "      print(\"😥 Not a valid option. You lose.\")\n",
        "      print(\"*\"*30)\n",
        "elif answer == \"right\":\n",
        "    answer = input(\"You meet a group of thieves! \\nYou can give them what you have or run away. \\nDo you want to give them everything or run away? \\n** Type 'give' or 'run'. \").lower()\n",
        "    print(\"*\"*30)\n",
        "    if answer == \"give\":\n",
        "      print(\"They allowed you to join them. \\nThey were moved by your kindness. \\nThey all became wise men.\")\n",
        "      print(\"*\"*30)\n",
        "    elif answer == \"run\":\n",
        "      print(\"You made them angry. They chased you and killed you!\").lower()\n",
        "      print(\"*\"*30)\n",
        "      else:\n",
        "        print(\"😥 Not a valid option. You lose.\")\n",
        "elif answer == \"back\":\n",
        "    answer = input(\"You meet a cute cat named Deokgu! \\nYou can follow her or go alone. \\nDo you want to follow Deokgu or go alone? \\n** Type 'follow' or 'go'. \").lower()\n",
        "    print(\"*\"*30)\n",
        "    if answer == \"follow\":\n",
        "      print(\"Deokgu helped you create a safe path around the forest! \\nThanks to you, people could get where they were going without getting lost. \\nGood girl/boy!\")\n",
        "      print(\"*\"*30)\n",
        "    elif answer == \"go\":\n",
        "      print(\"You felt lonely and lost in the forest forever...\")\n",
        "      print(\"*\"*30)\n",
        "        print(\"😥 Not a valid option. You lose.\")\n",
        "elif answer == \"straight\":\n",
        "    answer = input(\"You find \").lower()\n",
        "    print(\"*\"*30)\n",
        "    if answer == \"back\":\n",
        "      print(\"😥 You go back and lost your luck.\")\n",
        "      print(\"*\"*30)\n",
        "    elif answer == \"cross\":\n",
        "      answer = input(\"You cross the bridge and meet a stranger. ** Do you talk to them? (y/n)\").lower()\n",
        "      print(\"*\"*30)\n",
        "      if answer == \"y\":\n",
        "          print(\"👀 You talk to the stranger and he gives you gold. You win!\")\n",
        "      elif answer == \"n\":\n",
        "          print(\"😥 Well, you lost your luck.\")\n",
        "      else:\n",
        "        print(\"😥 Not a valid option. You lose.\")\n",
        "elif answer == \"wait\":\n",
        "    answer = input(\"After few minutes, you feel scared. \\n You see a stranger. \\n Do you want to talk to him or climb the tallest tree? \\n ** Type 'talk' or 'climb'. \").lower()\n",
        "    print(\"*\"*30)\n",
        "    if answer == \"talk\":\n",
        "      answer = input(\"The stranger asks you to have a journey together. ** Do you want to travel with him? (y/n)\").lower()\n",
        "      print(\"*\"*30)\n",
        "      if answer == \"y\":\n",
        "          print(\"👀 You talk to the stranger and he gives you gold. You win!\")\n",
        "      elif answer == \"n\":\n",
        "          print(\"😥 Well, He got angry and killed you!\")\n",
        "      print(\"*\"*30)\n",
        "    elif answer == \"climb\":\n",
        "      print(\"You could see the whole forest. You found the shortest way out! Congratuations!\")\n",
        "      print(\"*\"*30)\n",
        "    else:\n",
        "      print(\"😥 Not a valid option. You lose.\")\n",
        "\n",
        "else:\n",
        "  print(\"Not a valid option. You lose.\")\n",
        "\n",
        "print(\"Thank you\", name, \"Bye!\")\n"
      ],
      "metadata": {
        "colab": {
          "base_uri": "https://localhost:8080/",
          "height": 136
        },
        "id": "jLZnz4ooSrw2",
        "outputId": "c8b26476-aace-4407-cc81-db9ee2eca93e"
      },
      "execution_count": 5,
      "outputs": [
        {
          "output_type": "error",
          "ename": "SyntaxError",
          "evalue": "ignored",
          "traceback": [
            "\u001b[0;36m  File \u001b[0;32m\"<ipython-input-5-678d9d8d5db0>\"\u001b[0;36m, line \u001b[0;32m31\u001b[0m\n\u001b[0;31m    else:\u001b[0m\n\u001b[0m    ^\u001b[0m\n\u001b[0;31mSyntaxError\u001b[0m\u001b[0;31m:\u001b[0m invalid syntax\n"
          ]
        }
      ]
    }
  ]
}