{
  "nbformat": 4,
  "nbformat_minor": 0,
  "metadata": {
    "colab": {
      "provenance": [],
      "authorship_tag": "ABX9TyPG5g0147QkQEPTn6/YctMW",
      "include_colab_link": true
    },
    "kernelspec": {
      "name": "python3",
      "display_name": "Python 3"
    },
    "language_info": {
      "name": "python"
    }
  },
  "cells": [
    {
      "cell_type": "markdown",
      "metadata": {
        "id": "view-in-github",
        "colab_type": "text"
      },
      "source": [
        "<a href=\"https://colab.research.google.com/github/AhyeongH/F2022/blob/main/Assignment/Assignment02.ipynb\" target=\"_parent\"><img src=\"https://colab.research.google.com/assets/colab-badge.svg\" alt=\"Open In Colab\"/></a>"
      ]
    },
    {
      "cell_type": "markdown",
      "source": [
        "A. Multiplication"
      ],
      "metadata": {
        "id": "9HiMekxAXAtB"
      }
    },
    {
      "cell_type": "code",
      "execution_count": 3,
      "metadata": {
        "colab": {
          "base_uri": "https://localhost:8080/"
        },
        "id": "YtejgX_xWtvC",
        "outputId": "0faf99a7-1ca2-4e31-bdce-3fece89c3551"
      },
      "outputs": [
        {
          "output_type": "stream",
          "name": "stdout",
          "text": [
            "3 multiplied by 4 results in 12 .\n"
          ]
        }
      ],
      "source": [
        "x = 3\n",
        "y = 4\n",
        "print(x, \"multiplied by\", y, \"results in\", x*y,\".\")"
      ]
    },
    {
      "cell_type": "markdown",
      "source": [
        "B."
      ],
      "metadata": {
        "id": "Ag_baDb1W-5L"
      }
    },
    {
      "cell_type": "code",
      "source": [
        "x = \"I thought\"\n",
        "y = \"Tom believed\"\n",
        "z = \"water boils at 100 degrees Celsius.\"\n",
        "\n",
        "print(x,y,z)\n",
        "print(x,y,\"that\",z)\n",
        "print(x,\"that\",y,z)\n",
        "print(x,\"that\",y,\"that\",z)"
      ],
      "metadata": {
        "colab": {
          "base_uri": "https://localhost:8080/"
        },
        "id": "HjQnA73AYF7C",
        "outputId": "f49f49c6-050d-4402-9747-3b489f6d629e"
      },
      "execution_count": 6,
      "outputs": [
        {
          "output_type": "stream",
          "name": "stdout",
          "text": [
            "I thought Tom believed water boils at 100 degrees Celsius.\n",
            "I thought Tom believed that water boils at 100 degrees Celsius.\n",
            "I thought that Tom believed water boils at 100 degrees Celsius.\n",
            "I thought that Tom believed that water boils at 100 degrees Celsius.\n"
          ]
        }
      ]
    }
  ]
}