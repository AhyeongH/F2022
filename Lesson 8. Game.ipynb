{
  "nbformat": 4,
  "nbformat_minor": 0,
  "metadata": {
    "colab": {
      "provenance": [],
      "include_colab_link": true
    },
    "kernelspec": {
      "name": "python3",
      "display_name": "Python 3"
    },
    "language_info": {
      "name": "python"
    }
  },
  "cells": [
    {
      "cell_type": "markdown",
      "metadata": {
        "id": "view-in-github",
        "colab_type": "text"
      },
      "source": [
        "<a href=\"https://colab.research.google.com/github/AhyeongH/F2022/blob/main/Lesson%208.%20Game.ipynb\" target=\"_parent\"><img src=\"https://colab.research.google.com/assets/colab-badge.svg\" alt=\"Open In Colab\"/></a>"
      ]
    },
    {
      "cell_type": "markdown",
      "source": [
        "# 🐳 Play game with Ahyeong Teacher!"
      ],
      "metadata": {
        "id": "KA8AOgnlC5WL"
      }
    },
    {
      "cell_type": "code",
      "execution_count": null,
      "metadata": {
        "colab": {
          "base_uri": "https://localhost:8080/"
        },
        "id": "XiDgmuaJC1Us",
        "outputId": "4031b382-38b2-4378-be3e-6cc9b965e1ef"
      },
      "outputs": [
        {
          "output_type": "stream",
          "name": "stdout",
          "text": [
            "Welcome to my computer game!\n",
            "There is a story in this page.\n",
            "I hope you enjoy them!\n",
            "**************************************************\n"
          ]
        }
      ],
      "source": [
        "#@markdown Greetings\n",
        "print(\"Welcome to my computer game!\")\n",
        "print(\"There is a story in this page.\")\n",
        "print(\"I hope you enjoy them!\")\n",
        "print(\"*\"*50)\n"
      ]
    },
    {
      "cell_type": "markdown",
      "source": [
        "#Lesson 8. Which Is The Best Way?"
      ],
      "metadata": {
        "id": "xbsRpEJjSpgY"
      }
    },
    {
      "cell_type": "code",
      "source": [
        "#@markdown The Five Wise Men\n",
        "\n",
        "name = input(\"Type your name: \")\n",
        "print(\"Welcome\", name, \"to this adventure!\")\n",
        "\n",
        "print(\"*\"*30)\n",
        "answer = input(\"You are on a trip. \\nOn the way, however, you become lost in a thick forest. \\nBefore walking any further, you have to decide to stop and find the best way out. \\nYou can go left, right, back, or straight, or you can even wait. \\n** Which way do you want to go? \\nType 'left' , 'right' , 'back' , 'straight' or 'wait'.\").lower()\n",
        "\n",
        "print(\"*\"*30)\n",
        "if answer == \"left\":\n",
        "    answer = input(\"You come deeper into the forest, \\nYou can stay for a while or go straight. \\nDo you want to stay or go? \\n** Type 'stay' or 'go'.\").lower()\n",
        "    print(\"*\"*30)\n",
        "    if answer == \"go\":\n",
        "      print(\"🐊 You made your way out of the forest.\")\n",
        "      print(\"*\"*30)\n",
        "    elif answer == \"stay\":\n",
        "      print(\"💧 You were attacked by wild animals and died of hunger.\")\n",
        "      print(\"*\"*30)\n",
        "    else:\n",
        "      print(\"😥 Not a valid option. You lose.\")\n",
        "      print(\"*\"*30)\n",
        "\n",
        "elif answer == \"right\":\n",
        "    answer = input(\"You meet a group of thieves! \\nYou can give them what you have or run away. \\nDo you want to give them everything or run away? \\n** Type 'give' or 'run'. \").lower()\n",
        "    print(\"*\"*30)\n",
        "    if answer == \"give\":\n",
        "      print(\"They allowed you to join them. \\nThey were moved by your kindness. \\nThey all became wise men.\")\n",
        "      print(\"*\"*30)\n",
        "    elif answer == \"run\":\n",
        "      print(\"You made them angry. They chased you and killed you!\")\n",
        "      print(\"*\"*30)\n",
        "    else:\n",
        "      print(\"😥 Not a valid option. You lose.\")\n",
        "\n",
        "elif answer == \"back\":\n",
        "    answer = input(\"You meet a cute cat named Deokgu! \\nYou can follow her or go alone. \\nDo you want to follow Deokgu or go alone? \\n** Type 'follow' or 'go'. \").lower()\n",
        "    print(\"*\"*30)\n",
        "    if answer == \"follow\":\n",
        "      print(\"Deokgu helped you create a safe path around the forest! \\nThanks to you, people could get where they were going without getting lost. \\nGood girl/boy!\")\n",
        "      print(\"*\"*30)\n",
        "    elif answer == \"go\":\n",
        "      print(\"You felt lonely and lost in the forest forever...\")\n",
        "      print(\"*\"*30)\n",
        "    else:\n",
        "      print(\"😥 Not a valid option. You lose.\")\n",
        "\n",
        "elif answer == \"straight\":\n",
        "    answer = input(\"While walking, you find waterfalls and beautiful flowers. \\nYou are thursty. \\nDo you want to drink water? (y/n)\").lower()\n",
        "    print(\"*\"*30)\n",
        "    if answer == \"y\":\n",
        "      print(\"You discovered places no one else had been before! \\nYou are a pioneer!\")\n",
        "      print(\"*\"*30)\n",
        "    elif answer == \"n\":\n",
        "      print(\"You died of lack of water.\")\n",
        "      print(\"*\"*30)\n",
        "    else:\n",
        "      print(\"😥 Not a valid option. You lose.\")\n",
        "\n",
        "elif answer == \"wait\":\n",
        "    answer = input(\"After few minutes, you feel scared. \\n You see a stranger. \\n Do you want to talk to him or climb the tallest tree? \\n ** Type 'talk' or 'climb'. \").lower()\n",
        "    print(\"*\"*30)\n",
        "    if answer == \"talk\":\n",
        "      answer = input(\"The stranger asks you to have a journey together. ** Do you want to travel with him? (y/n)\").lower()\n",
        "      print(\"*\"*30)\n",
        "      if answer == \"y\":\n",
        "          print(\"👀 You talk to the stranger and he gives you gold. You win!\")\n",
        "      elif answer == \"n\":\n",
        "          print(\"😥 Well, He got angry and killed you!\")\n",
        "      print(\"*\"*30)\n",
        "    elif answer == \"climb\":\n",
        "      print(\"You could see the whole forest. You found the shortest way out! Congratuations!\")\n",
        "      print(\"*\"*30)\n",
        "    else:\n",
        "      print(\"😥 Not a valid option. You lose.\")\n",
        "\n",
        "else:\n",
        "  print(\"Not a valid option. You lose.\")\n",
        "\n",
        "print(\"Thank you\", name, \"Bye!\")\n"
      ],
      "metadata": {
        "colab": {
          "base_uri": "https://localhost:8080/",
          "height": 400
        },
        "id": "jLZnz4ooSrw2",
        "outputId": "0f7d4530-7996-4e0b-cca9-eed2676bd76e"
      },
      "execution_count": null,
      "outputs": [
        {
          "output_type": "error",
          "ename": "KeyboardInterrupt",
          "evalue": "ignored",
          "traceback": [
            "\u001b[0;31m---------------------------------------------------------------------------\u001b[0m",
            "\u001b[0;31mKeyboardInterrupt\u001b[0m                         Traceback (most recent call last)",
            "\u001b[0;32m<ipython-input-33-ccef4b762737>\u001b[0m in \u001b[0;36m<module>\u001b[0;34m\u001b[0m\n\u001b[1;32m      1\u001b[0m \u001b[0;31m#@markdown The Five Wise Men\u001b[0m\u001b[0;34m\u001b[0m\u001b[0;34m\u001b[0m\u001b[0;34m\u001b[0m\u001b[0m\n\u001b[1;32m      2\u001b[0m \u001b[0;34m\u001b[0m\u001b[0m\n\u001b[0;32m----> 3\u001b[0;31m \u001b[0mname\u001b[0m \u001b[0;34m=\u001b[0m \u001b[0minput\u001b[0m\u001b[0;34m(\u001b[0m\u001b[0;34m\"Type your name: \"\u001b[0m\u001b[0;34m)\u001b[0m\u001b[0;34m\u001b[0m\u001b[0;34m\u001b[0m\u001b[0m\n\u001b[0m\u001b[1;32m      4\u001b[0m \u001b[0mprint\u001b[0m\u001b[0;34m(\u001b[0m\u001b[0;34m\"Welcome\"\u001b[0m\u001b[0;34m,\u001b[0m \u001b[0mname\u001b[0m\u001b[0;34m,\u001b[0m \u001b[0;34m\"to this adventure!\"\u001b[0m\u001b[0;34m)\u001b[0m\u001b[0;34m\u001b[0m\u001b[0;34m\u001b[0m\u001b[0m\n\u001b[1;32m      5\u001b[0m \u001b[0;34m\u001b[0m\u001b[0m\n",
            "\u001b[0;32m/usr/local/lib/python3.8/dist-packages/ipykernel/kernelbase.py\u001b[0m in \u001b[0;36mraw_input\u001b[0;34m(self, prompt)\u001b[0m\n\u001b[1;32m    858\u001b[0m                 \u001b[0;34m\"raw_input was called, but this frontend does not support input requests.\"\u001b[0m\u001b[0;34m\u001b[0m\u001b[0;34m\u001b[0m\u001b[0m\n\u001b[1;32m    859\u001b[0m             )\n\u001b[0;32m--> 860\u001b[0;31m         return self._input_request(str(prompt),\n\u001b[0m\u001b[1;32m    861\u001b[0m             \u001b[0mself\u001b[0m\u001b[0;34m.\u001b[0m\u001b[0m_parent_ident\u001b[0m\u001b[0;34m,\u001b[0m\u001b[0;34m\u001b[0m\u001b[0;34m\u001b[0m\u001b[0m\n\u001b[1;32m    862\u001b[0m             \u001b[0mself\u001b[0m\u001b[0;34m.\u001b[0m\u001b[0m_parent_header\u001b[0m\u001b[0;34m,\u001b[0m\u001b[0;34m\u001b[0m\u001b[0;34m\u001b[0m\u001b[0m\n",
            "\u001b[0;32m/usr/local/lib/python3.8/dist-packages/ipykernel/kernelbase.py\u001b[0m in \u001b[0;36m_input_request\u001b[0;34m(self, prompt, ident, parent, password)\u001b[0m\n\u001b[1;32m    902\u001b[0m             \u001b[0;32mexcept\u001b[0m \u001b[0mKeyboardInterrupt\u001b[0m\u001b[0;34m:\u001b[0m\u001b[0;34m\u001b[0m\u001b[0;34m\u001b[0m\u001b[0m\n\u001b[1;32m    903\u001b[0m                 \u001b[0;31m# re-raise KeyboardInterrupt, to truncate traceback\u001b[0m\u001b[0;34m\u001b[0m\u001b[0;34m\u001b[0m\u001b[0;34m\u001b[0m\u001b[0m\n\u001b[0;32m--> 904\u001b[0;31m                 \u001b[0;32mraise\u001b[0m \u001b[0mKeyboardInterrupt\u001b[0m\u001b[0;34m(\u001b[0m\u001b[0;34m\"Interrupted by user\"\u001b[0m\u001b[0;34m)\u001b[0m \u001b[0;32mfrom\u001b[0m \u001b[0;32mNone\u001b[0m\u001b[0;34m\u001b[0m\u001b[0;34m\u001b[0m\u001b[0m\n\u001b[0m\u001b[1;32m    905\u001b[0m             \u001b[0;32mexcept\u001b[0m \u001b[0mException\u001b[0m \u001b[0;32mas\u001b[0m \u001b[0me\u001b[0m\u001b[0;34m:\u001b[0m\u001b[0;34m\u001b[0m\u001b[0;34m\u001b[0m\u001b[0m\n\u001b[1;32m    906\u001b[0m                 \u001b[0mself\u001b[0m\u001b[0;34m.\u001b[0m\u001b[0mlog\u001b[0m\u001b[0;34m.\u001b[0m\u001b[0mwarning\u001b[0m\u001b[0;34m(\u001b[0m\u001b[0;34m\"Invalid Message:\"\u001b[0m\u001b[0;34m,\u001b[0m \u001b[0mexc_info\u001b[0m\u001b[0;34m=\u001b[0m\u001b[0;32mTrue\u001b[0m\u001b[0;34m)\u001b[0m\u001b[0;34m\u001b[0m\u001b[0;34m\u001b[0m\u001b[0m\n",
            "\u001b[0;31mKeyboardInterrupt\u001b[0m: Interrupted by user"
          ]
        }
      ]
    }
  ]
}